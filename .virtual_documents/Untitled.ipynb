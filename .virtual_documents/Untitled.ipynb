


mm <- structure(list(S = c(9.998, 25, 50, 100, 1000, 1875),
                     v = c(0.041, 0.047, 0.060, 0.071, 0.139, 0.126)),
                    .Names = c("S", "v"), class = "data.frame", row.names = c(NA, 6L))
print(mm)


inv_substrate <- 1/ mm$S
inv_velocity <- 1/ mm$v



# Plot the Lineweaver-Burk plot
plot(inv_substrate, inv_velocity, xlab = "1/[Substrate]", ylab = "1/Velocity", main = "Lineweaver-Burk Plot")

# Fit a linear regression line
model <- lm(inv_velocity ~ inv_substrate) 
abline(model) 

# Extract slope and intercept (Km/Vmax and 1/Vmax)
slope <- coef(model)[2]
intercept <- coef(model)[1] 

# Print results 
cat("Slope (Km/Vmax):", slope, "\n") 
cat("Intercept (1/Vmax):", intercept, "\n")
cat("Vmax):", 1/intercept, "\n")
cat("Vmax:", 1/intercept, "\n")
cat("Km:", slope/intercept, "\n")


library(drc) # for fitting Michaelis Menten model
library(ggplot2) # for drawing





mmBr <- structure(list(S = c(7.531538317, 18.83239171, 37.66478343, 188.3239171, 753.2956685, 1412.429379),
                     v = c(0.022916667, 0.020833333, 0.052314815, 0.085416667, 0.090046296, 0.098842593)),
                    .Names = c("S", "v"), class = "data.frame", row.names = c(NA, 6L))
print(mmBr)



inv_substrateBr <- 1/ mmBr$S
inv_velocityBr <- 1/ mmBr$v


#svg('filename.svg')
# Plot the Lineweaver-Burk plot
plot(inv_substrateBr, inv_velocityBr, xlab = "1/[Substrate]", ylab = "1/Velocity", 
     main = "Lineweaver-Burk Plot",xlim=c(-0.12,0.14), 
     ylim=c(-10,50) )
abline(model, col="red", lwd=2)
abline(v=0, lwd=2)

# Fit a linear regression line
modelBr <- lm(inv_velocityBr ~ inv_substrateBr) 
abline(modelBr,col="blue", lwd=2) 
# make plot
#dev.off()

# Extract slope and intercept (Km/Vmax and 1/Vmax)
slope <- coef(modelBr)[2]
intercept <- coef(modelBr)[1] 

# Print results 
cat("Slope (Km/Vmax):", slope, "\n") 
cat("Intercept (1/Vmax):", intercept, "\n")
cat("Vmax):", 1/intercept, "\n")
cat("Vmax:", 1/intercept, "\n")
cat("Km:", slope/intercept, "\n")



# make plot
#dev.off()





mmNO3 <- structure(list(S = c(8.017076373, 20.04670883, 40.09341766, 80.18683533, 200.4670883, 801.8683533),
                     v = c(0.009259259, 0.014583333, 0.018981481, 0.031944444, 0.030787037, 0.044212963)),
                    .Names = c("S", "v"), class = "data.frame", row.names = c(NA, 6L))
print(mmNO3)


inv_substrateNO3 <- 1/ mmNO3$S
inv_velocityNO3 <- 1/ mmNO3$v


# Plot the Lineweaver-Burk plot
plot(inv_substrateNO3, inv_velocityNO3, xlab = "1/[Substrate]", ylab = "1/Velocity", 
     col="dark green", main = "Lineweaver-Burk Plot", xlim=c(-0.12,0.14), 
     ylim=c(-10,50) )
abline(model, col="red", lwd=2)
# Fit a linear regression line
modelNO3 <- lm(inv_velocityNO3 ~ inv_substrateNO3) 
abline(modelNO3, lwd=2, col="dark green") 
abline(v=0, lwd=2)

# Extract slope and intercept (Km/Vmax and 1/Vmax)
slope <- coef(modelNO3)[2]
intercept <- coef(modelNO3)[1] 

# Print results 
cat("Slope (Km/Vmax):", slope, "\n") 
cat("Intercept (1/Vmax):", intercept, "\n")
cat("Vmax):", 1/intercept, "\n")
cat("Vmax:", 1/intercept, "\n")
cat("Km:", slope/intercept, "\n")





mmPO4 <- structure( list(S = c(9.997500625, 25, 50, 100, 250, 500, 1000, 1875),
                     v = c(0.0034606481,0.021412037, 0.010648148, 0.045949074, 0.066666667, 0.050347222, 0.107175926, 0.107986111 )),
                    .Names = c("S", "v"), class = "data.frame", row.names = c(NA, 8L))
print(mmPO4)


inv_substratePO4 <- 1/ mmPO4$S
inv_velocityPO4 <- 1/ mmPO4$v


# Plot the Lineweaver-Burk plot
plot(inv_substratePO4, inv_velocityPO4, xlab = "1/[Substrate]", ylab = "1/Velocity", 
      main = "Lineweaver-Burk Plot", xlim=c(-0.22,0.22), 
     ylim=c(-20,50) )
abline(model, col="red", lwd=2)
# Fit a linear regression line
modelPO4 <- lm(inv_velocityPO4 ~ inv_substratePO4) 
abline(modelPO4, lwd=2, col="dark orange") 
abline(v=0, lwd=2)

# Extract slope and intercept (Km/Vmax and 1/Vmax)
slope <- coef(modelPO4)[2]
intercept <- coef(modelPO4)[1] 

# Print results 
cat("Slope (Km/Vmax):", slope, "\n") 
cat("Intercept (1/Vmax):", intercept, "\n")
cat("Vmax):", 1/intercept, "\n")
cat("Vmax:", 1/intercept, "\n")
cat("Km:", slope/intercept, "\n")





mmSO4 <- structure (list(S = c(9.140767824, 22.85714286, 45.71428571, 91.42857143, 228.5714286, 457.1428571, 914.2857143, 1714.285714),
                    v = c(0.003225309, 0.026080247, 0.034953704, 0.036959877, 0.042901235, 0.058179012, 0.05617284, 0.081095679)),
                    .Names = c("S", "v"), class = "data.frame", row.names = c(NA, 8L))
#mmSO4 <- structure (list(S = c(9.140767824, 22.85714286, 45.71428571, 228.5714286, 457.1428571, 1714.285714),
 #                   v = c(0.003225309, 0.026080247, 0.034953704,  0.042901235, 0.058179012, 0.081095679)),
  #                  .Names = c("S", "v"), class = "data.frame", row.names = c(NA, 6L))
#print(mmSO4)


inv_substrateSO4 <- 1/ mmSO4$S
inv_velocitySO4 <- 1/ mmSO4$v


# Plot the Lineweaver-Burk plot
plot(inv_substrateSO4, inv_velocitySO4, xlab = "1/[Substrate]", ylab = "1/Velocity", 
      main = "Lineweaver-Burk Plot", xlim=c(-0.22,0.22), 
     ylim=c(-20,50) )
abline(model, col="red", lwd=2)
# Fit a linear regression line
modelSO4 <- lm(inv_velocitySO4 ~ inv_substrateSO4) 
abline(modelSO4, lwd=2, col="purple") 
abline(v=0, lwd=2)

# Extract slope and intercept (Km/Vmax and 1/Vmax)
slope <- coef(modelSO4)[2]
intercept <- coef(modelSO4)[1] 

# Print results 
cat("Slope (Km/Vmax):", slope, "\n") 
cat("Intercept (1/Vmax):", intercept, "\n")
cat("Vmax):", 1/intercept, "\n")
cat("Vmax:", 1/intercept, "\n")
cat("Km:", slope/intercept, "\n")



