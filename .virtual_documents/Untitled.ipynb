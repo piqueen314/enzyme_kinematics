





mm <- structure(list(S = c(25, 50, 100, 1000, 1875),
                     v = c( 0.042361111, 0.05462963, 0.05787037, 0.069444444, 0.115740741)),
                    .Names = c("S", "v"), class = "data.frame", row.names = c(NA, 5L))
print(mm)


library(drc) # for fitting Michaelis Menten model
library(ggplot2) # for drawing


model.drm <- drm (v ~ S, data = mm, fct = MM.2())

mml <- data.frame(S = seq(0, max(mm$S), length.out = 100))
mml$v <- predict(model.drm, newdata = mml)


ggplot(mm, aes(x = S, y = v)) +
  theme_bw() +
  xlab("Substrate Concentration [μM]") +
  ylab(bquote(V[0]~" [μM/sec]")) +
  ggtitle("Michaelis-Menten kinetics") +
  geom_point(alpha = 0.5) +
  geom_line(data = mml, aes(x = S, y = v), colour = "purple")


ggsave("mmCC.pdf", width = 6, height = 4, device = cairo_pdf)


model.nls <- nls(v ~ Vm * S/(K+S), data = mm, 
                 start = list(K = max(mm$v)/2, Vm = max(mm$v)))


summary(model.nls)





mm <- structure(list(S = c(8.764519471, 21.91619586, 43.83239171, 87.66478343, 501.6478343, 956.2146893, 876.6478343, 1643.714689),
                     v = c( 0.036111111, 0.031597222, 0.053472222, 0.042939815, 0.055671296, 0.070717593, 0.07974537, 0.107291667)),
                    .Names = c("S", "v"), class = "data.frame", row.names = c(NA, 8L))
#print(mm)


odel.drm <- drm (v ~ S, data = mm, fct = MM.2())

mml <- data.frame(S = seq(0, max(mm$S), length.out = 100))
mml$v <- predict(model.drm, newdata = mml)


ggplot(mm, aes(x = S, y = v)) +
  theme_bw() +
  xlab("Substrate Concentration [μM]") +
  ylab(bquote(V[0]~" [μM/sec]")) +
  ggtitle("Michaelis-Menten kinetics") +
  geom_point(alpha = 0.5) +
  geom_line(data = mml, aes(x = S, y = v), colour = "purple")


ggsave("mmCC.pdf", width = 6, height = 4, device = cairo_pdf)


model.nls <- nls(v ~ Vm * S/(K+S), data = mm, 
                 start = list(K = max(mm$v)/2, Vm = max(mm$v)))


summary(model.nls)



