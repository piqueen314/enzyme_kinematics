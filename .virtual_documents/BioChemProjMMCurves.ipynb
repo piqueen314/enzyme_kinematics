


mm <- structure(list(S = c(9.998, 25, 50, 100, 250, 500, 1000, 1875),
                     v = c(0.041, 0.047, 0.060, 0.071, 0.057, 0.082, 0.139, 0.126)),
                    .Names = c("S", "v"), class = "data.frame", row.names = c(NA, 8L))
print(mm)





library(drc) # for fitting Michaelis Menten model
library(ggplot2) # for drawing


model.drm <- drm (v ~ S, data = mm, fct = MM.2())

mml <- data.frame(S = seq(0, max(mm$S), length.out = 100))
mml$v <- predict(model.drm, newdata = mml)


ggplot(mm, aes(x = S, y = v)) +
  theme_bw() +
  xlab("Substrate Concentration [μM]") +
  ylab(bquote(V[0]~" [μM/sec]")) +
  ggtitle("Michaelis-Menten kinetics") +
  geom_point(alpha = 0.5) +
  geom_line(data = mml, aes(x = S, y = v), colour = "red")


ggsave("mm.pdf", width = 6, height = 4, device = cairo_pdf)


model.nls <- nls(v ~ Vm * S/(K+S), data = mm, 
                 start = list(K = max(mm$v)/2, Vm = max(mm$v)))


summary(model.nls)








mmBr <- structure(list(S = c(7.531538317, 18.83239171, 37.66478343, 75.32956685, 188.3239171, 376.6478343, 753.2956685, 1412.429379),
                     v = c(0.022916667, 0.020833333, 0.052314815, 0.028009259, 0.085416667, 0.06412037, 0.090046296, 0.098842593)),
                    .Names = c("S", "v"), class = "data.frame", row.names = c(NA, 8L))
#print(mmBr)



model.drm <- drm (v ~ S, data = mmBr, fct = MM.2())

mml <- data.frame(S = seq(0, max(mmBr$S), length.out = 100))
mml$v <- predict(model.drm, newdata = mml)


ggplot(mmBr, aes(x = S, y = v)) +
  theme_bw() +
  xlab("Substrate Concentration [\u03BCM]") +
  ylab(bquote(V[0]~" [μM/sec]")) +
  ggtitle("Michaelis-Menten kinetics") +
  geom_point(alpha = 0.5) +
  geom_line(data = mml, aes(x = S, y = v), colour = "blue")


ggsave("mmBr.pdf", width = 6, height = 4,device = cairo_pdf)


model.nls <- nls(v ~ Vm * S/(K+S), data = mmBr, 
                 start = list(K = max(mmBr$v)/2, Vm = max(mmBr$v)))


summary(model.nls)





mmNO3 <- structure(list(S = c(8.017076373, 20.04670883, 40.09341766, 80.18683533, 200.4670883, 400.9341766, 801.8683533, 1503.503162),
                     v = c(0.009259259, 0.014583333, 0.018981481, 0.031944444, 0.030787037, 0.059490741, 0.044212963, 0.016435185)),
                    .Names = c("S", "v"), class = "data.frame", row.names = c(NA, 8L))
#print(mmNO3)


model.drm <- drm (v ~ S, data = mmNO3, fct = MM.2())

mml <- data.frame(S = seq(0, max(mmNO3$S), length.out = 100))
mml$v <- predict(model.drm, newdata = mml)


ggplot(mmNO3, aes(x = S, y = v)) +
  theme_bw() +
  xlab("Substrate Concentration [\u03BCM]") +
  ylab(bquote(V[0]~" [μM/sec]")) +
  #ylab("Speed [dE/sec]") +
  ggtitle("Michaelis-Menten kinetics") +
  geom_point(alpha = 0.5) +
  geom_line(data = mml, aes(x = S, y = v), colour = "dark green")


ggsave("mmNO3.pdf", width = 6, height = 4,device = cairo_pdf)


model.nls <- nls(v ~ Vm * S/(K+S), data = mmNO3, 
                 start = list(K = max(mmNO3$v)/2, Vm = max(mmNO3$v)))


summary(model.nls)



