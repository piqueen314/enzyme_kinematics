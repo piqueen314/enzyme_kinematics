{
 "cells": [
  {
   "cell_type": "markdown",
   "id": "d7c0270e-26d8-4cae-8ab9-1856c0b5c8fe",
   "metadata": {},
   "source": [
    "No inhibitor Km data¶"
   ]
  },
  {
   "cell_type": "code",
   "execution_count": 1,
   "id": "678eb76a-5023-42bf-bc3b-a74549557672",
   "metadata": {},
   "outputs": [
    {
     "name": "stdout",
     "output_type": "stream",
     "text": [
      "         S     v\n",
      "1    9.998 0.041\n",
      "2   25.000 0.047\n",
      "3   50.000 0.060\n",
      "4  100.000 0.071\n",
      "5 1000.000 0.139\n",
      "6 1875.000 0.126\n"
     ]
    }
   ],
   "source": [
    "mm <- structure(list(S = c(9.998, 25, 50, 100, 1000, 1875),\n",
    "                     v = c(0.041, 0.047, 0.060, 0.071, 0.139, 0.126)),\n",
    "                    .Names = c(\"S\", \"v\"), class = \"data.frame\", row.names = c(NA, 6L))\n",
    "print(mm)"
   ]
  },
  {
   "cell_type": "code",
   "execution_count": null,
   "id": "0166fa13-be8e-4764-a0d5-ce5fc759a557",
   "metadata": {},
   "outputs": [],
   "source": []
  }
 ],
 "metadata": {
  "kernelspec": {
   "display_name": "R",
   "language": "R",
   "name": "ir"
  },
  "language_info": {
   "codemirror_mode": "r",
   "file_extension": ".r",
   "mimetype": "text/x-r-source",
   "name": "R",
   "pygments_lexer": "r",
   "version": "4.4.2"
  }
 },
 "nbformat": 4,
 "nbformat_minor": 5
}
