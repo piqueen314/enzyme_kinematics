{
 "cells": [
  {
   "cell_type": "markdown",
   "id": "f3eb0f23-bb7b-422a-bb38-3f6c310a7996",
   "metadata": {},
   "source": [
    "### No inhibitor Km data ###"
   ]
  },
  {
   "cell_type": "code",
   "execution_count": 1,
   "id": "684306ef-3eea-4c37-88ab-cd366f5b14f4",
   "metadata": {},
   "outputs": [
    {
     "name": "stdout",
     "output_type": "stream",
     "text": [
      "         S     v\n",
      "1    9.998 0.041\n",
      "2   25.000 0.047\n",
      "3   50.000 0.060\n",
      "4  100.000 0.071\n",
      "5 1000.000 0.139\n",
      "6 1875.000 0.126\n"
     ]
    }
   ],
   "source": [
    "mm <- structure(list(S = c(9.998, 25, 50, 100, 1000, 1875),\n",
    "                     v = c(0.041, 0.047, 0.060, 0.071, 0.139, 0.126)),\n",
    "                    .Names = c(\"S\", \"v\"), class = \"data.frame\", row.names = c(NA, 6L))\n",
    "print(mm)"
   ]
  },
  {
   "cell_type": "markdown",
   "id": "e4e402df-f3c2-4987-8848-d2ea73d145f1",
   "metadata": {},
   "source": [
    "### Br- Inhibitor ###"
   ]
  },
  {
   "cell_type": "code",
   "execution_count": 2,
   "id": "c9ed4a1d-7de1-4b89-a239-0ccaf335d798",
   "metadata": {},
   "outputs": [
    {
     "name": "stdout",
     "output_type": "stream",
     "text": [
      "            S          v\n",
      "1    7.531538 0.02291667\n",
      "2   18.832392 0.02083333\n",
      "3   37.664783 0.05231482\n",
      "4  188.323917 0.08541667\n",
      "5  753.295669 0.09004630\n",
      "6 1412.429379 0.09884259\n"
     ]
    }
   ],
   "source": [
    "mmBr <- structure(list(S = c(7.531538317, 18.83239171, 37.66478343, 188.3239171, 753.2956685, 1412.429379),\n",
    "                     v = c(0.022916667, 0.020833333, 0.052314815, 0.085416667, 0.090046296, 0.098842593)),\n",
    "                    .Names = c(\"S\", \"v\"), class = \"data.frame\", row.names = c(NA, 6L))\n",
    "print(mmBr)"
   ]
  },
  {
   "cell_type": "markdown",
   "id": "3c87438d-d99c-4dca-ab26-11700e3448be",
   "metadata": {},
   "source": [
    "### NO3- inhibitor ###"
   ]
  },
  {
   "cell_type": "code",
   "execution_count": 3,
   "id": "33ae54d5-c380-4f4e-824d-d59c27e98389",
   "metadata": {},
   "outputs": [
    {
     "name": "stdout",
     "output_type": "stream",
     "text": [
      "           S           v\n",
      "1   8.017076 0.009259259\n",
      "2  20.046709 0.014583333\n",
      "3  40.093418 0.018981481\n",
      "4  80.186835 0.031944444\n",
      "5 200.467088 0.030787037\n",
      "6 801.868353 0.044212963\n"
     ]
    }
   ],
   "source": [
    "mmNO3 <- structure(list(S = c(8.017076373, 20.04670883, 40.09341766, 80.18683533, 200.4670883, 801.8683533),\n",
    "                     v = c(0.009259259, 0.014583333, 0.018981481, 0.031944444, 0.030787037, 0.044212963)),\n",
    "                    .Names = c(\"S\", \"v\"), class = \"data.frame\", row.names = c(NA, 6L))\n",
    "print(mmNO3)"
   ]
  },
  {
   "cell_type": "markdown",
   "id": "86943d9b-f7b7-4e2a-b313-3197c34253da",
   "metadata": {},
   "source": [
    "### SO4 2- inhibitor ###"
   ]
  },
  {
   "cell_type": "code",
   "execution_count": 9,
   "id": "086da0bc-7bf2-4c94-a60b-ad015c28fbd6",
   "metadata": {},
   "outputs": [
    {
     "name": "stdout",
     "output_type": "stream",
     "text": [
      "            S          v\n",
      "1    9.140768 0.03225309\n",
      "2   22.857143 0.02608025\n",
      "3   45.714286 0.03495370\n",
      "4   91.428571 0.03695988\n",
      "5  228.571429 0.04290124\n",
      "6  457.142857 0.05817901\n",
      "7  914.285714 0.05617284\n",
      "8 1714.285714 0.08109568\n"
     ]
    }
   ],
   "source": [
    "mmSO4 <- structure (list(S = c(9.140767824, 22.85714286, 45.71428571, 91.42857143, 228.5714286, 457.1428571, 914.2857143, 1714.285714),\n",
    "                     v = c(0.032253086, 0.026080247, 0.034953704, 0.036959877, 0.042901235, 0.058179012, 0.05617284, 0.081095679)),\n",
    "                    .Names = c(\"S\", \"v\"), class = \"data.frame\", row.names = c(NA, 8L))\n",
    "print(mmSO4)"
   ]
  },
  {
   "cell_type": "markdown",
   "id": "fc5bd929-d9e2-48cc-b9fd-8eee14f8ba12",
   "metadata": {},
   "source": [
    "### PO4- inhibitor data ###"
   ]
  },
  {
   "cell_type": "code",
   "execution_count": 6,
   "id": "163e0978-0624-4cc4-8ec4-0b6bf00b24fd",
   "metadata": {},
   "outputs": [
    {
     "name": "stdout",
     "output_type": "stream",
     "text": [
      "           S           v\n",
      "1   8.017076 0.009259259\n",
      "2  20.046709 0.014583333\n",
      "3  40.093418 0.018981481\n",
      "4  80.186835 0.031944444\n",
      "5 200.467088 0.030787037\n",
      "6 801.868353 0.044212963\n"
     ]
    }
   ],
   "source": [
    "mmPO4 <- structure( list(S = c(9.997500625, 25, 50, 100, 250, 500, 1000, 1875),\n",
    "                     v = c(0.034606481,0.021412037, 0.010648148, 0.045949074,  )),\n",
    "                    .Names = c(\"S\", \"v\"), class = \"data.frame\", row.names = c(NA, 6L))\n",
    "print(mmPO4)"
   ]
  },
  {
   "cell_type": "code",
   "execution_count": null,
   "id": "c1fd0c89-3cd2-4210-b831-a42204bdeeb8",
   "metadata": {},
   "outputs": [],
   "source": []
  }
 ],
 "metadata": {
  "kernelspec": {
   "display_name": "R",
   "language": "R",
   "name": "ir"
  },
  "language_info": {
   "codemirror_mode": "r",
   "file_extension": ".r",
   "mimetype": "text/x-r-source",
   "name": "R",
   "pygments_lexer": "r",
   "version": "4.4.2"
  }
 },
 "nbformat": 4,
 "nbformat_minor": 5
}
