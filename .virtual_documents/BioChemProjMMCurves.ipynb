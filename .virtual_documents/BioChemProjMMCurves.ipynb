


mm <- structure(list(S = c(9.998, 25, 50, 100, 1000, 1875),
                     v = c(0.041, 0.047, 0.060, 0.071, 0.139, 0.126)),
                    .Names = c("S", "v"), class = "data.frame", row.names = c(NA, 6L))
print(mm)





library(drc) # for fitting Michaelis Menten model
library(ggplot2) # for drawing


model.drm <- drm (v ~ S, data = mm, fct = MM.2())

mml <- data.frame(S = seq(0, max(mm$S), length.out = 100))
mml$v <- predict(model.drm, newdata = mml)


sd <- c(0.064346717, 0.007778175, 0.032526912, 0.009192388, 0.014849242, 0.034648232)


ggplot(mm, aes(x = S, y = v)) +
  theme_bw() +
  xlab("Substrate Concentration [μM]") +
  ylab(bquote(V[0]~" [μM/sec]")) +
  ggtitle("Michaelis-Menten kinetics") +
  geom_point(alpha = 0.5, colour = "red") +
  geom_line(data = mml, aes(x = S, y = v), colour = "red")


ggsave("mm.pdf", width = 6, height = 4, device = cairo_pdf)


model.nls <- nls(v ~ Vm * S/(K+S), data = mm, 
                 start = list(K = max(mm$v)/2, Vm = max(mm$v)))


summary(model.nls)








mmBr <- structure(list(S = c(7.531538317, 18.83239171, 37.66478343, 188.3239171, 753.2956685, 1412.429379),
                     v = c(0.022916667, 0.020833333, 0.052314815, 0.085416667, 0.090046296, 0.098842593)),
                    .Names = c("S", "v"), class = "data.frame", row.names = c(NA, 6L))
print(mmBr)



model.drm <- drm (v ~ S, data = mmBr, fct = MM.2())

mmlBr <- data.frame(S = seq(0, max(mm$S), length.out = 100))
mmlBr$v <- predict(model.drm, newdata = mmlBr)


sdBr <- c(0.018659762, 0.015222438, 0.001636821, 0.0048613591, 0.014567709, 0.014567709) # standard dev. of velocity


ggplot(mmBr, aes(x = S, y = v)) +
  theme_bw() +
  xlab("Substrate Concentration [\u03BCM]") +
  ylab(bquote(V[0]~" [μM/sec]")) +
  ggtitle("Michaelis-Menten kinetics") +
  geom_point(alpha = 0.5, colour = "blue") +
  #geom_errorbar(aes(ymin=v-sdBr, ymax=v+sdBr), width=.2,
   #              position=position_dodge(0.05))+
  geom_line(data = mmlBr, aes(x = S, y = v), colour = "blue")


ggsave("mmBr.pdf", width = 6, height = 4,device = cairo_pdf)


model.nls <- nls(v ~ Vm * S/(K+S), data = mmBr, 
                 start = list(K = max(mmBr$v)/2, Vm = max(mmBr$v)))


summary(model.nls)





mmNO3 <- structure(list(S = c(8.017076373, 20.04670883, 40.09341766, 80.18683533, 200.4670883, 801.8683533),
                     v = c(0.009259259, 0.014583333, 0.018981481, 0.031944444, 0.030787037, 0.044212963)),
                    .Names = c("S", "v"), class = "data.frame", row.names = c(NA, 6L))
print(mmNO3)


model.drm <- drm (v ~ S, data = mmNO3, fct = MM.2())

mmlNO3 <- data.frame(S = seq(0, max(mm$S), length.out = 100))
mmlNO3$v <- predict(model.drm, newdata = mmlNO3)


sdNO3 <- c(0.007365696, 0.001636821, 0.004092053, 0.004255735, 0.0045831, 0.008675153)


ggplot(mmNO3, aes(x = S, y = v)) +
  theme_bw() +
  xlab("Substrate Concentration [\u03BCM]") +
  ylab(bquote(V[0]~" [μM/sec]")) +
  #ylab("Speed [dE/sec]") +
  ggtitle("Michaelis-Menten kinetics") +
  geom_point(alpha = 0.5, colour = "dark green") +
  #geom_errorbar(aes(ymin=v-sdNO3, ymax=v+sdNO3), width=.2,
   #              position=position_dodge(0.05))+
  geom_line(data = mmlNO3, aes(x = S, y = v), colour = "dark green")


ggsave("mmNO3.pdf", width = 6, height = 4,device = cairo_pdf)


model.nls <- nls(v ~ Vm * S/(K+S), data = mmNO3, 
                 start = list(K = max(mmNO3$v)/2, Vm = max(mmNO3$v)))


summary(model.nls)








mmSO4 <- structure (list(S = c(9.140767824, 22.85714286, 45.71428571, 91.42857143, 228.5714286, 457.1428571, 914.2857143, 1714.285714),
                    v = c(0.003225309, 0.026080247, 0.034953704, 0.036959877, 0.042901235, 0.058179012, 0.05617284, 0.081095679)),
                    .Names = c("S", "v"), class = "data.frame", row.names = c(NA, 8L))
#mmSO4 <- structure (list(S = c(9.140767824, 22.85714286, 45.71428571, 228.5714286, 457.1428571, 1714.285714),
 #                   v = c(0.003225309, 0.026080247, 0.034953704,  0.042901235, 0.058179012, 0.081095679)),
  #                  .Names = c("S", "v"), class = "data.frame", row.names = c(NA, 6L))
#print(mmSO4)


model.drm <- drm (v ~ S, data = mmSO4, fct = MM.2())

mmlSO4 <- data.frame(S = seq(0, max(mm$S), length.out = 100))
mmlSO4$v <- predict(model.drm, newdata = mmlSO4)


ggplot(mmSO4, aes(x = S, y = v)) +
  theme_classic() +
  xlab("Substrate Concentration [\u03BCM]") +
  ylab(bquote(V[0]~" [μM/sec]")) +
  #ylab("Speed [dE/sec]") +
  ggtitle("Michaelis-Menten kinetics") +
  geom_point(alpha = 0.5, colour = "purple") +
  geom_line(data = mmlSO4, aes(x = S, y = v), colour = " purple")








ggsave("mmSO4.pdf", width = 6, height = 4,device = cairo_pdf)


model.nls <- nls(v ~ Vm * S/(K+S), data = mmSO4, 
                 start = list(K = max(mmSO4$v)/2, Vm = max(mmSO4$v)))


summary(model.nls)





mmPO4 <- structure( list(S = c(9.997500625, 25, 50, 100, 250, 500, 1000, 1875),
                     v = c(0.0034606481,0.021412037, 0.010648148, 0.045949074, 0.066666667, 0.050347222, 0.107175926, 0.107986111 )),
                    .Names = c("S", "v"), class = "data.frame", row.names = c(NA, 8L))
print(mmPO4)


model.drm <- drm (v ~ S, data = mmPO4, fct = MM.2())

mmlPO4 <- data.frame(S = seq(0, max(mm$S), length.out = 100))
mmlPO4$v <- predict(model.drm, newdata = mmlPO4)


ggplot(mmPO4, aes(x = S, y = v)) +
  theme_classic() +
  xlab("Substrate Concentration [\u03BCM]") +
  ylab(bquote(V[0]~" [μM/sec]")) +
  #ylab("Speed [dE/sec]") +
  ggtitle("Michaelis-Menten kinetics") +
  geom_point(alpha = 0.5, colour = "dark orange") +
  geom_line(data = mmlPO4, aes(x = S, y = v), colour = " dark orange")


ggsave("mmPO4.pdf", width = 6, height = 4,device = cairo_pdf)


model.nls <- nls(v ~ Vm * S/(K+S), data = mmPO4, 
                 start = list(K = max(mmPO4$v)/2, Vm = max(mmPO4$v)))


summary(model.nls)





ggplot(mm, aes(x = S, y = v)) +
  theme_classic() +
  xlab("Substrate Concentration [μM]") +
  ylab(bquote(V[0]~" [μM/sec]")) +
  #ggtitle("Michaelis-Menten kinetics") +
  geom_point(data = mm, alpha = 0.9, colour = "maroon") +
  geom_line(data = mml, aes(x = S, y = v), colour = "maroon", linewidth = 0.7) +
  geom_point(data = mmBr, alpha = 0.9, colour = "dark blue") +
  geom_line(data = mmlBr, aes(x = S, y = v), colour = "darkblue", linewidth = 0.7)



