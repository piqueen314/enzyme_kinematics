{
 "cells": [
  {
   "cell_type": "markdown",
   "id": "f3eb0f23-bb7b-422a-bb38-3f6c310a7996",
   "metadata": {},
   "source": [
    "### No inhibitor Km data ###"
   ]
  },
  {
   "cell_type": "code",
   "execution_count": 1,
   "id": "684306ef-3eea-4c37-88ab-cd366f5b14f4",
   "metadata": {},
   "outputs": [
    {
     "name": "stdout",
     "output_type": "stream",
     "text": [
      "         S     v\n",
      "1    9.998 0.041\n",
      "2   25.000 0.047\n",
      "3   50.000 0.060\n",
      "4  100.000 0.071\n",
      "5 1000.000 0.139\n",
      "6 1875.000 0.126\n"
     ]
    }
   ],
   "source": [
    "mm <- structure(list(S = c(9.998, 25, 50, 100, 1000, 1875),\n",
    "                     v = c(0.041, 0.047, 0.060, 0.071, 0.139, 0.126)),\n",
    "                    .Names = c(\"S\", \"v\"), class = \"data.frame\", row.names = c(NA, 6L))\n",
    "print(mm)"
   ]
  },
  {
   "cell_type": "markdown",
   "id": "e4e402df-f3c2-4987-8848-d2ea73d145f1",
   "metadata": {},
   "source": [
    "### Br- Inhibitor ###"
   ]
  },
  {
   "cell_type": "code",
   "execution_count": 2,
   "id": "c9ed4a1d-7de1-4b89-a239-0ccaf335d798",
   "metadata": {},
   "outputs": [
    {
     "name": "stdout",
     "output_type": "stream",
     "text": [
      "            S          v\n",
      "1    7.531538 0.02291667\n",
      "2   18.832392 0.02083333\n",
      "3   37.664783 0.05231482\n",
      "4  188.323917 0.08541667\n",
      "5  753.295669 0.09004630\n",
      "6 1412.429379 0.09884259\n"
     ]
    }
   ],
   "source": [
    "mmBr <- structure(list(S = c(7.531538317, 18.83239171, 37.66478343, 188.3239171, 753.2956685, 1412.429379),\n",
    "                     v = c(0.022916667, 0.020833333, 0.052314815, 0.085416667, 0.090046296, 0.098842593)),\n",
    "                    .Names = c(\"S\", \"v\"), class = \"data.frame\", row.names = c(NA, 6L))\n",
    "print(mmBr)"
   ]
  },
  {
   "cell_type": "markdown",
   "id": "3c87438d-d99c-4dca-ab26-11700e3448be",
   "metadata": {},
   "source": [
    "### NO3- inhibitor ###"
   ]
  },
  {
   "cell_type": "code",
   "execution_count": 3,
   "id": "33ae54d5-c380-4f4e-824d-d59c27e98389",
   "metadata": {},
   "outputs": [
    {
     "name": "stdout",
     "output_type": "stream",
     "text": [
      "           S           v\n",
      "1   8.017076 0.009259259\n",
      "2  20.046709 0.014583333\n",
      "3  40.093418 0.018981481\n",
      "4  80.186835 0.031944444\n",
      "5 200.467088 0.030787037\n",
      "6 801.868353 0.044212963\n"
     ]
    }
   ],
   "source": [
    "mmNO3 <- structure(list(S = c(8.017076373, 20.04670883, 40.09341766, 80.18683533, 200.4670883, 801.8683533),\n",
    "                     v = c(0.009259259, 0.014583333, 0.018981481, 0.031944444, 0.030787037, 0.044212963)),\n",
    "                    .Names = c(\"S\", \"v\"), class = \"data.frame\", row.names = c(NA, 6L))\n",
    "print(mmNO3)"
   ]
  },
  {
   "cell_type": "markdown",
   "id": "86943d9b-f7b7-4e2a-b313-3197c34253da",
   "metadata": {},
   "source": [
    "### SO4 2- inhibitor ###"
   ]
  },
  {
   "cell_type": "code",
   "execution_count": 9,
   "id": "086da0bc-7bf2-4c94-a60b-ad015c28fbd6",
   "metadata": {},
   "outputs": [
    {
     "name": "stdout",
     "output_type": "stream",
     "text": [
      "            S          v\n",
      "1    9.140768 0.03225309\n",
      "2   22.857143 0.02608025\n",
      "3   45.714286 0.03495370\n",
      "4   91.428571 0.03695988\n",
      "5  228.571429 0.04290124\n",
      "6  457.142857 0.05817901\n",
      "7  914.285714 0.05617284\n",
      "8 1714.285714 0.08109568\n"
     ]
    }
   ],
   "source": [
    "mmSO4 <- structure (list(S = c(9.140767824, 22.85714286, 45.71428571, 91.42857143, 228.5714286, 457.1428571, 914.2857143, 1714.285714),\n",
    "                     v = c(0.032253086, 0.026080247, 0.034953704, 0.036959877, 0.042901235, 0.058179012, 0.05617284, 0.081095679)),\n",
    "                    .Names = c(\"S\", \"v\"), class = \"data.frame\", row.names = c(NA, 8L))\n",
    "print(mmSO4)"
   ]
  },
  {
   "cell_type": "markdown",
   "id": "fc5bd929-d9e2-48cc-b9fd-8eee14f8ba12",
   "metadata": {},
   "source": [
    "### PO4- inhibitor data ###"
   ]
  },
  {
   "cell_type": "code",
   "execution_count": 10,
   "id": "163e0978-0624-4cc4-8ec4-0b6bf00b24fd",
   "metadata": {},
   "outputs": [
    {
     "name": "stdout",
     "output_type": "stream",
     "text": [
      "            S          v\n",
      "1    9.997501 0.03460648\n",
      "2   25.000000 0.02141204\n",
      "3   50.000000 0.01064815\n",
      "4  100.000000 0.04594907\n",
      "5  250.000000 0.06666667\n",
      "6  500.000000 0.05034722\n",
      "7 1000.000000 0.10717593\n",
      "8 1875.000000 0.10798611\n"
     ]
    }
   ],
   "source": [
    "mmPO4 <- structure( list(S = c(9.997500625, 25, 50, 100, 250, 500, 1000, 1875),\n",
    "                     v = c(0.034606481,0.021412037, 0.010648148, 0.045949074, 0.066666667, 0.050347222, 0.107175926, 0.107986111 )),\n",
    "                    .Names = c(\"S\", \"v\"), class = \"data.frame\", row.names = c(NA, 8L))\n",
    "print(mmPO4)"
   ]
  },
  {
   "cell_type": "markdown",
   "id": "f6af83af-df54-422e-8de2-9dbb9b28bf39",
   "metadata": {},
   "source": [
    "Load the required libraries"
   ]
  },
  {
   "cell_type": "code",
   "execution_count": 12,
   "id": "6d3b4e56-4132-4aa0-acb3-093399139715",
   "metadata": {},
   "outputs": [],
   "source": [
    "library(drc) # for fitting Michaelis Menten model\n",
    "library(ggplot2) # for drawing"
   ]
  },
  {
   "cell_type": "markdown",
   "id": "83049b54-6aff-4fb0-8148-a002d62e4422",
   "metadata": {},
   "source": [
    "We fit the data using function drm. We are saying that <code style=\"color:red\">v</code> depends on <code style=\"color:red\">S</code>, and the model that should be fitted is a two parameter Michaelis-Menten model (coded in functoin <span style=\"color:red\">MM.2</span>). After the model has been fitted, we predict the values in order to get a smooth fitted line."
   ]
  },
  {
   "cell_type": "markdown",
   "id": "badf9553-15f1-4e2b-855e-9e518bed0bad",
   "metadata": {},
   "source": [
    "<code style= \"color:red\">mml</code> is loaded with non linear least squares fit for acid phosphatase with substrate PNPP with no inhibitor"
   ]
  },
  {
   "cell_type": "code",
   "execution_count": 13,
   "id": "386f3637-b0cd-4d80-bd30-f928b267b4bd",
   "metadata": {},
   "outputs": [],
   "source": [
    "model.drm <- drm (v ~ S, data = mm, fct = MM.2())\n",
    "\n",
    "mml <- data.frame(S = seq(0, max(mm$S), length.out = 100))\n",
    "mml$v <- predict(model.drm, newdata = mml)"
   ]
  },
  {
   "cell_type": "markdown",
   "id": "dafa920e-8e98-458c-ba47-1365a55fa71c",
   "metadata": {},
   "source": [
    "<code style= \"color:red\">mmlBR</code> is loaded with non linear least squares fit for acid phosphatase with substrate PNPP with inhibitor Br-"
   ]
  },
  {
   "cell_type": "code",
   "execution_count": 14,
   "id": "f2e9edc2-9179-48ce-b188-5e2c74b8ff20",
   "metadata": {},
   "outputs": [],
   "source": [
    "model.drm <- drm (v ~ S, data = mmBr, fct = MM.2())\n",
    "\n",
    "mmlBr <- data.frame(S = seq(0, max(mm$S), length.out = 100))\n",
    "mmlBr$v <- predict(model.drm, newdata = mmlBr)"
   ]
  },
  {
   "cell_type": "markdown",
   "id": "80d59247-ec06-455e-84e4-53918021f127",
   "metadata": {},
   "source": [
    "<code style= \"color:red\">mmlNO3</code> is loaded with non linear least squares fit for acid phosphatase with substrate PNPP with inhibitor NO<sub>3</sub><sup>-</sup>"
   ]
  },
  {
   "cell_type": "code",
   "execution_count": 17,
   "id": "878a6f62-971b-4940-a816-d181ce247fe8",
   "metadata": {},
   "outputs": [],
   "source": [
    "model.drm <- drm (v ~ S, data = mmNO3, fct = MM.2())\n",
    "\n",
    "mmlNO3 <- data.frame(S = seq(0, max(mm$S), length.out = 100))\n",
    "mmlNO3$v <- predict(model.drm, newdata = mmlNO3)"
   ]
  },
  {
   "cell_type": "markdown",
   "id": "218179d1-6217-4d72-9212-66058e4a52ae",
   "metadata": {},
   "source": [
    "<code style= \"color:red\">mmlSO4</code> is loaded with non linear least squares fit for acid phosphatase with substrate PNPP with inhibitor NO<sub>3</sub><sup>-</sup>"
   ]
  },
  {
   "cell_type": "code",
   "execution_count": 18,
   "id": "9ed532b1-96de-42b7-a8cb-566bcc162062",
   "metadata": {},
   "outputs": [],
   "source": [
    "model.drm <- drm (v ~ S, data = mmSO4, fct = MM.2())\n",
    "\n",
    "mmlSO4 <- data.frame(S = seq(0, max(mm$S), length.out = 100))\n",
    "mmlSO4$v <- predict(model.drm, newdata = mmlSO4)"
   ]
  },
  {
   "cell_type": "markdown",
   "id": "3c091246-7110-4cce-b4f9-125b2dd95a3e",
   "metadata": {},
   "source": [
    "<code style= \"color:red\">mmlPO4</code> is loaded with non linear least squares fit for acid phosphatase with substrate PNPP with inhibitor NO<sub>3</sub><sup>-</sup>"
   ]
  },
  {
   "cell_type": "code",
   "execution_count": 19,
   "id": "3803655b-0498-4623-93ae-bc12c88cd899",
   "metadata": {},
   "outputs": [],
   "source": [
    "model.drm <- drm (v ~ S, data = mmPO4, fct = MM.2())\n",
    "\n",
    "mmlPO4 <- data.frame(S = seq(0, max(mm$S), length.out = 100))\n",
    "mmlPO4$v <- predict(model.drm, newdata = mmlPO4)"
   ]
  },
  {
   "cell_type": "markdown",
   "id": "ed5a0974-f38d-4339-a597-9c7f868fd52b",
   "metadata": {},
   "source": [
    "#### Making the combinded plot ... Acid phosphatese with  no inhibitoer and potential inhibitors Br<sup>-</sup>, NO<sub>3</sub><sup>-</sup>, SO<sub>4</sub><sup>2-</sup>, and PO<sub>4</sub><sup>-</sup> ####"
   ]
  },
  {
   "cell_type": "code",
   "execution_count": null,
   "id": "ca9585c7-2963-4e54-a02d-8b145940f201",
   "metadata": {},
   "outputs": [],
   "source": []
  }
 ],
 "metadata": {
  "kernelspec": {
   "display_name": "R",
   "language": "R",
   "name": "ir"
  },
  "language_info": {
   "codemirror_mode": "r",
   "file_extension": ".r",
   "mimetype": "text/x-r-source",
   "name": "R",
   "pygments_lexer": "r",
   "version": "4.4.2"
  }
 },
 "nbformat": 4,
 "nbformat_minor": 5
}
