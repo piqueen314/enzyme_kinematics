


mm <- structure(list(S = c(9.998, 25, 50, 100, 1000, 1875),
                     v = c(0.041, 0.047, 0.060, 0.071, 0.139, 0.126)),
                    .Names = c("S", "v"), class = "data.frame", row.names = c(NA, 6L))
print(mm)





mmBr <- structure(list(S = c(7.531538317, 18.83239171, 37.66478343, 188.3239171, 753.2956685, 1412.429379),
                     v = c(0.022916667, 0.020833333, 0.052314815, 0.085416667, 0.090046296, 0.098842593)),
                    .Names = c("S", "v"), class = "data.frame", row.names = c(NA, 6L))
print(mmBr)





mmNO3 <- structure(list(S = c(8.017076373, 20.04670883, 40.09341766, 80.18683533, 200.4670883, 400.9341766, 801.8683533, 1503.503162),
                     v = c(0.009259259, 0.014583333, 0.018981481, 0.031944444, 0.030787037, 0.059490741, 0.044212963, 0.016435185)),
                    .Names = c("S", "v"), class = "data.frame", row.names = c(NA, 8L))
#print(mmNO3)





library(drc) # for fitting Michaelis Menten model
library(ggplot2) # for drawing








model.drm <- drm (v ~ S, data = mm, fct = MM.2())

mml <- data.frame(S = seq(0, max(mm$S), length.out = 100))
mml$v <- predict(model.drm, newdata = mml)





model.drm <- drm (v ~ S, data = mmBr, fct = MM.2())

mmlBr <- data.frame(S = seq(0, max(mmBr$S), length.out = 100))
mmlBr$v <- predict(model.drm, newdata = mmlBr)





model.drm <- drm (v ~ S, data = mmNO3, fct = MM.2())

mmlNO3 <- data.frame(S = seq(0, max(mmNO3$S), length.out = 100))
mmlNO3$v <- predict(model.drm, newdata = mmlNO3)





ggplot(mm, aes(x = S, y = v)) +
  theme_bw() +
  xlab("Substrate Concentration [μM]") +
  ylab(bquote(V[0]~" [μM/sec]")) +
  ggtitle("Michaelis-Menten kinetics") +
  geom_point(data = mm, alpha = 0.9, colour = "maroon") +
  geom_line(data = mml, aes(x = S, y = v), colour = "maroon") +
  geom_point(data = mmBr, alpha = 0.9, colour = "dark blue") +
  geom_line(data = mmlBr, aes(x = S, y = v), colour = "dark blue")
  


ggsave("mmBrComb.pdf", width = 6, height = 4, device = cairo_pdf) #write to pdf





mmNO3 <- structure(list(S = c(8.017076373, 20.04670883, 40.09341766, 80.18683533, 200.4670883, 400.9341766, 801.8683533, 1503.503162),
                     v = c(0.009259259, 0.014583333, 0.018981481, 0.031944444, 0.030787037, 0.059490741, 0.044212963, 0.016435185)),
                    .Names = c("S", "v"), class = "data.frame", row.names = c(NA, 8L))
#print(mmNO3)



